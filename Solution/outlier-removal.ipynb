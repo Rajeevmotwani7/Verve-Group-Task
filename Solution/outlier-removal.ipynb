{
 "cells": [
  {
   "cell_type": "markdown",
   "id": "a6fbf1fa-17fb-4551-a10d-7da69655aa7e",
   "metadata": {},
   "source": [
    "# The verve group data science task"
   ]
  },
  {
   "cell_type": "code",
   "execution_count": 109,
   "id": "edac9579-fe27-4955-9d85-7f34bed7f394",
   "metadata": {},
   "outputs": [],
   "source": [
    "import pandas as pd\n",
    "from sklearn.model_selection import train_test_split"
   ]
  },
  {
   "cell_type": "code",
   "execution_count": 110,
   "id": "4740f04d-5da8-4dc7-8f3a-30308ca536b4",
   "metadata": {},
   "outputs": [],
   "source": [
    "data = pd.read_csv('win-rate.csv')"
   ]
  },
  {
   "cell_type": "code",
   "execution_count": 111,
   "id": "a9e53df5-818f-4bff-b7c1-3170c3d32f48",
   "metadata": {},
   "outputs": [
    {
     "data": {
      "text/html": [
       "<div>\n",
       "<style scoped>\n",
       "    .dataframe tbody tr th:only-of-type {\n",
       "        vertical-align: middle;\n",
       "    }\n",
       "\n",
       "    .dataframe tbody tr th {\n",
       "        vertical-align: top;\n",
       "    }\n",
       "\n",
       "    .dataframe thead th {\n",
       "        text-align: right;\n",
       "    }\n",
       "</style>\n",
       "<table border=\"1\" class=\"dataframe\">\n",
       "  <thead>\n",
       "    <tr style=\"text-align: right;\">\n",
       "      <th></th>\n",
       "      <th>app</th>\n",
       "      <th>bid_price</th>\n",
       "      <th>events</th>\n",
       "      <th>total_events</th>\n",
       "      <th>win_rate</th>\n",
       "    </tr>\n",
       "  </thead>\n",
       "  <tbody>\n",
       "    <tr>\n",
       "      <th>0</th>\n",
       "      <td>A</td>\n",
       "      <td>0.01</td>\n",
       "      <td>0</td>\n",
       "      <td>100000</td>\n",
       "      <td>0.0</td>\n",
       "    </tr>\n",
       "    <tr>\n",
       "      <th>1</th>\n",
       "      <td>A</td>\n",
       "      <td>0.10</td>\n",
       "      <td>3000</td>\n",
       "      <td>10000</td>\n",
       "      <td>30.0</td>\n",
       "    </tr>\n",
       "    <tr>\n",
       "      <th>2</th>\n",
       "      <td>A</td>\n",
       "      <td>0.20</td>\n",
       "      <td>2000000</td>\n",
       "      <td>10000000</td>\n",
       "      <td>20.0</td>\n",
       "    </tr>\n",
       "    <tr>\n",
       "      <th>3</th>\n",
       "      <td>A</td>\n",
       "      <td>0.40</td>\n",
       "      <td>300000</td>\n",
       "      <td>1000000</td>\n",
       "      <td>30.0</td>\n",
       "    </tr>\n",
       "    <tr>\n",
       "      <th>4</th>\n",
       "      <td>A</td>\n",
       "      <td>0.50</td>\n",
       "      <td>20000</td>\n",
       "      <td>100000</td>\n",
       "      <td>20.0</td>\n",
       "    </tr>\n",
       "  </tbody>\n",
       "</table>\n",
       "</div>"
      ],
      "text/plain": [
       "  app  bid_price   events  total_events  win_rate\n",
       "0   A       0.01        0        100000       0.0\n",
       "1   A       0.10     3000         10000      30.0\n",
       "2   A       0.20  2000000      10000000      20.0\n",
       "3   A       0.40   300000       1000000      30.0\n",
       "4   A       0.50    20000        100000      20.0"
      ]
     },
     "execution_count": 111,
     "metadata": {},
     "output_type": "execute_result"
    }
   ],
   "source": [
    "data.head()"
   ]
  },
  {
   "cell_type": "code",
   "execution_count": 112,
   "id": "1cbb6790-b328-4ab8-a88f-6b4ab20b616e",
   "metadata": {},
   "outputs": [
    {
     "data": {
      "text/plain": [
       "<AxesSubplot:xlabel='bid_price'>"
      ]
     },
     "execution_count": 112,
     "metadata": {},
     "output_type": "execute_result"
    },
    {
     "data": {
      "image/png": "[encoded data removed]",
      "text/plain": [
       "<Figure size 432x288 with 1 Axes>"
      ]
     },
     "metadata": {
      "needs_background": "light"
     },
     "output_type": "display_data"
    }
   ],
   "source": [
    "data.plot(x = 'bid_price', y = 'total_events',kind = 'bar')"
   ]
  },
  {
   "cell_type": "code",
   "execution_count": 113,
   "id": "9d51097c-eeeb-4803-889c-d71d364716d1",
   "metadata": {},
   "outputs": [
    {
     "data": {
      "text/plain": [
       "<AxesSubplot:xlabel='total_events', ylabel='bid_price'>"
      ]
     },
     "execution_count": 113,
     "metadata": {},
     "output_type": "execute_result"
    },
    {
     "data": {
      "image/png": "[encoded data removed]",
      "text/plain": [
       "<Figure size 432x288 with 1 Axes>"
      ]
     },
     "metadata": {
      "needs_background": "light"
     },
     "output_type": "display_data"
    }
   ],
   "source": [
    "import seaborn as sns\n",
    "sns.boxplot(x = data.total_events, y = data.bid_price)"
   ]
  },
  {
   "cell_type": "code",
   "execution_count": 114,
   "id": "9b43d95d-744d-4ccd-9422-0fab26c8da6b",
   "metadata": {},
   "outputs": [
    {
     "name": "stdout",
     "output_type": "stream",
     "text": [
      "325.0\n",
      "100000.0\n",
      "99675.0\n"
     ]
    }
   ],
   "source": [
    "Q1 = data.total_events.quantile(0.25)\n",
    "Q3 = data.total_events.quantile(0.75)\n",
    "IQR = Q3 - Q1\n",
    "print(Q1)\n",
    "print(Q3)\n",
    "print(IQR)\n"
   ]
  },
  {
   "cell_type": "code",
   "execution_count": 115,
   "id": "cc70f5c3-2256-4a01-8de1-24616a3594fd",
   "metadata": {},
   "outputs": [
    {
     "data": {
      "text/plain": [
       "(8, 5)"
      ]
     },
     "execution_count": 115,
     "metadata": {},
     "output_type": "execute_result"
    }
   ],
   "source": [
    "data_new = data[~((data['total_events'] < (Q1 - 1.5 * IQR)) |(data['total_events'] > (Q3 + 1.5 * IQR)))]\n",
    "data_new.shape"
   ]
  },
  {
   "cell_type": "code",
   "execution_count": 116,
   "id": "6f762dbd-9be9-40af-b001-49a2bdf7ace9",
   "metadata": {},
   "outputs": [
    {
     "data": {
      "text/html": [
       "<div>\n",
       "<style scoped>\n",
       "    .dataframe tbody tr th:only-of-type {\n",
       "        vertical-align: middle;\n",
       "    }\n",
       "\n",
       "    .dataframe tbody tr th {\n",
       "        vertical-align: top;\n",
       "    }\n",
       "\n",
       "    .dataframe thead th {\n",
       "        text-align: right;\n",
       "    }\n",
       "</style>\n",
       "<table border=\"1\" class=\"dataframe\">\n",
       "  <thead>\n",
       "    <tr style=\"text-align: right;\">\n",
       "      <th></th>\n",
       "      <th>app</th>\n",
       "      <th>bid_price</th>\n",
       "      <th>events</th>\n",
       "      <th>total_events</th>\n",
       "      <th>win_rate</th>\n",
       "    </tr>\n",
       "  </thead>\n",
       "  <tbody>\n",
       "    <tr>\n",
       "      <th>0</th>\n",
       "      <td>A</td>\n",
       "      <td>0.01</td>\n",
       "      <td>0</td>\n",
       "      <td>100000</td>\n",
       "      <td>0.0</td>\n",
       "    </tr>\n",
       "    <tr>\n",
       "      <th>1</th>\n",
       "      <td>A</td>\n",
       "      <td>0.10</td>\n",
       "      <td>3000</td>\n",
       "      <td>10000</td>\n",
       "      <td>30.0</td>\n",
       "    </tr>\n",
       "    <tr>\n",
       "      <th>4</th>\n",
       "      <td>A</td>\n",
       "      <td>0.50</td>\n",
       "      <td>20000</td>\n",
       "      <td>100000</td>\n",
       "      <td>20.0</td>\n",
       "    </tr>\n",
       "    <tr>\n",
       "      <th>5</th>\n",
       "      <td>A</td>\n",
       "      <td>0.75</td>\n",
       "      <td>3000</td>\n",
       "      <td>10000</td>\n",
       "      <td>30.0</td>\n",
       "    </tr>\n",
       "    <tr>\n",
       "      <th>6</th>\n",
       "      <td>A</td>\n",
       "      <td>1.00</td>\n",
       "      <td>600</td>\n",
       "      <td>1000</td>\n",
       "      <td>60.0</td>\n",
       "    </tr>\n",
       "  </tbody>\n",
       "</table>\n",
       "</div>"
      ],
      "text/plain": [
       "  app  bid_price  events  total_events  win_rate\n",
       "0   A       0.01       0        100000       0.0\n",
       "1   A       0.10    3000         10000      30.0\n",
       "4   A       0.50   20000        100000      20.0\n",
       "5   A       0.75    3000         10000      30.0\n",
       "6   A       1.00     600          1000      60.0"
      ]
     },
     "execution_count": 116,
     "metadata": {},
     "output_type": "execute_result"
    }
   ],
   "source": [
    "data_new.head()"
   ]
  },
  {
   "cell_type": "code",
   "execution_count": null,
   "id": "5a62c9b3-4f91-4d95-bbb3-3de204cc70e9",
   "metadata": {},
   "outputs": [],
   "source": []
  }
 ],
 "metadata": {
  "environment": {
   "kernel": "python3",
   "name": "common-cpu.m94",
   "type": "gcloud",
   "uri": "gcr.io/deeplearning-platform-release/base-cpu:m94"
  },
  "kernelspec": {
   "display_name": "Python 3",
   "language": "python",
   "name": "python3"
  },
  "language_info": {
   "codemirror_mode": {
    "name": "ipython",
    "version": 3
   },
   "file_extension": ".py",
   "mimetype": "text/x-python",
   "name": "python",
   "nbconvert_exporter": "python",
   "pygments_lexer": "ipython3",
   "version": "3.7.12"
  }
 },
 "nbformat": 4,
 "nbformat_minor": 5
}
